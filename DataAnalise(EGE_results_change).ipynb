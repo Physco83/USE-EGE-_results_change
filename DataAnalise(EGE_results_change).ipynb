{
  "nbformat": 4,
  "nbformat_minor": 0,
  "metadata": {
    "colab": {
      "provenance": []
    },
    "kernelspec": {
      "name": "python3",
      "display_name": "Python 3"
    },
    "language_info": {
      "name": "python"
    }
  },
  "cells": [
    {
      "cell_type": "code",
      "execution_count": null,
      "metadata": {
        "id": "rvZHGy35-rcV"
      },
      "outputs": [],
      "source": [
        "import pandas as pd\n",
        "import numpy as np\n",
        "import matplotlib.pyplot as plt\n",
        "import matplotlib\n",
        "from sklearn.cluster import DBSCAN,AffinityPropagation, KMeans\n",
        "from sklearn.preprocessing import MinMaxScaler\n"
      ]
    },
    {
      "cell_type": "code",
      "source": [
        "file_name = 'data-9722-2022-09-26'"
      ],
      "metadata": {
        "id": "F9wHY83SBxjT"
      },
      "execution_count": null,
      "outputs": []
    },
    {
      "cell_type": "code",
      "source": [
        "df = pd.read_csv('./'+file_name+'.csv', sep=';', encoding='cp1251', encoding_errors='ignore')\n",
        "df = df.drop(columns=['ID', 'global_id'])\n",
        "df"
      ],
      "metadata": {
        "colab": {
          "base_uri": "https://localhost:8080/",
          "height": 641
        },
        "id": "C7Kd5SChBxmu",
        "outputId": "dfd039e4-7b59-4d52-e243-2a4630b61328"
      },
      "execution_count": null,
      "outputs": [
        {
          "output_type": "execute_result",
          "data": {
            "text/plain": [
              "                                               EDU_NAME       YEAR  \\\n",
              "0     Государственное бюджетное общеобразовательное ...  2016-2017   \n",
              "1     Государственное казенное общеобразовательное у...  2016-2017   \n",
              "2     Государственное казенное общеобразовательное у...  2016-2017   \n",
              "3     Частное учреждение общеобразовательная организ...  2016-2017   \n",
              "4     Автономная некоммерческая организация средняя ...  2016-2017   \n",
              "...                                                 ...        ...   \n",
              "3529  Государственное бюджетное общеобразовательное ...  2020-2021   \n",
              "3530  Государственное бюджетное общеобразовательное ...  2020-2021   \n",
              "3531  Государственное бюджетное общеобразовательное ...  2020-2021   \n",
              "3532  Государственное бюджетное общеобразовательное ...  2020-2021   \n",
              "3533  Государственное бюджетное общеобразовательное ...  2020-2021   \n",
              "\n",
              "                                   AdmArea                   District  \\\n",
              "0         Восточный административный округ          район Богородское   \n",
              "1         Восточный административный округ          район Богородское   \n",
              "2         Восточный административный округ              район Вешняки   \n",
              "3         Восточный административный округ              район Вешняки   \n",
              "4         Восточный административный округ  район Восточное Измайлово   \n",
              "...                                    ...                        ...   \n",
              "3529  Юго-Восточный административный округ              район Марьино   \n",
              "3530   Юго-Западный административный округ        Академический район   \n",
              "3531   Юго-Западный административный округ        Академический район   \n",
              "3532   Юго-Западный административный округ               район Зюзино   \n",
              "3533   Юго-Западный административный округ        Ломоносовский район   \n",
              "\n",
              "      PASSES_OVER_220  PASSER_UNDER_160  \n",
              "0                   5                19  \n",
              "1                  14                47  \n",
              "2                   0                 1  \n",
              "3                   0                 6  \n",
              "4                   1                 5  \n",
              "...               ...               ...  \n",
              "3529               26                70  \n",
              "3530              142               199  \n",
              "3531               44                84  \n",
              "3532               19                33  \n",
              "3533              153               199  \n",
              "\n",
              "[3534 rows x 6 columns]"
            ],
            "text/html": [
              "\n",
              "  <div id=\"df-8d143c06-9954-489c-9d1d-a198d8f71fda\">\n",
              "    <div class=\"colab-df-container\">\n",
              "      <div>\n",
              "<style scoped>\n",
              "    .dataframe tbody tr th:only-of-type {\n",
              "        vertical-align: middle;\n",
              "    }\n",
              "\n",
              "    .dataframe tbody tr th {\n",
              "        vertical-align: top;\n",
              "    }\n",
              "\n",
              "    .dataframe thead th {\n",
              "        text-align: right;\n",
              "    }\n",
              "</style>\n",
              "<table border=\"1\" class=\"dataframe\">\n",
              "  <thead>\n",
              "    <tr style=\"text-align: right;\">\n",
              "      <th></th>\n",
              "      <th>EDU_NAME</th>\n",
              "      <th>YEAR</th>\n",
              "      <th>AdmArea</th>\n",
              "      <th>District</th>\n",
              "      <th>PASSES_OVER_220</th>\n",
              "      <th>PASSER_UNDER_160</th>\n",
              "    </tr>\n",
              "  </thead>\n",
              "  <tbody>\n",
              "    <tr>\n",
              "      <th>0</th>\n",
              "      <td>Государственное бюджетное общеобразовательное ...</td>\n",
              "      <td>2016-2017</td>\n",
              "      <td>Восточный административный округ</td>\n",
              "      <td>район Богородское</td>\n",
              "      <td>5</td>\n",
              "      <td>19</td>\n",
              "    </tr>\n",
              "    <tr>\n",
              "      <th>1</th>\n",
              "      <td>Государственное казенное общеобразовательное у...</td>\n",
              "      <td>2016-2017</td>\n",
              "      <td>Восточный административный округ</td>\n",
              "      <td>район Богородское</td>\n",
              "      <td>14</td>\n",
              "      <td>47</td>\n",
              "    </tr>\n",
              "    <tr>\n",
              "      <th>2</th>\n",
              "      <td>Государственное казенное общеобразовательное у...</td>\n",
              "      <td>2016-2017</td>\n",
              "      <td>Восточный административный округ</td>\n",
              "      <td>район Вешняки</td>\n",
              "      <td>0</td>\n",
              "      <td>1</td>\n",
              "    </tr>\n",
              "    <tr>\n",
              "      <th>3</th>\n",
              "      <td>Частное учреждение общеобразовательная организ...</td>\n",
              "      <td>2016-2017</td>\n",
              "      <td>Восточный административный округ</td>\n",
              "      <td>район Вешняки</td>\n",
              "      <td>0</td>\n",
              "      <td>6</td>\n",
              "    </tr>\n",
              "    <tr>\n",
              "      <th>4</th>\n",
              "      <td>Автономная некоммерческая организация средняя ...</td>\n",
              "      <td>2016-2017</td>\n",
              "      <td>Восточный административный округ</td>\n",
              "      <td>район Восточное Измайлово</td>\n",
              "      <td>1</td>\n",
              "      <td>5</td>\n",
              "    </tr>\n",
              "    <tr>\n",
              "      <th>...</th>\n",
              "      <td>...</td>\n",
              "      <td>...</td>\n",
              "      <td>...</td>\n",
              "      <td>...</td>\n",
              "      <td>...</td>\n",
              "      <td>...</td>\n",
              "    </tr>\n",
              "    <tr>\n",
              "      <th>3529</th>\n",
              "      <td>Государственное бюджетное общеобразовательное ...</td>\n",
              "      <td>2020-2021</td>\n",
              "      <td>Юго-Восточный административный округ</td>\n",
              "      <td>район Марьино</td>\n",
              "      <td>26</td>\n",
              "      <td>70</td>\n",
              "    </tr>\n",
              "    <tr>\n",
              "      <th>3530</th>\n",
              "      <td>Государственное бюджетное общеобразовательное ...</td>\n",
              "      <td>2020-2021</td>\n",
              "      <td>Юго-Западный административный округ</td>\n",
              "      <td>Академический район</td>\n",
              "      <td>142</td>\n",
              "      <td>199</td>\n",
              "    </tr>\n",
              "    <tr>\n",
              "      <th>3531</th>\n",
              "      <td>Государственное бюджетное общеобразовательное ...</td>\n",
              "      <td>2020-2021</td>\n",
              "      <td>Юго-Западный административный округ</td>\n",
              "      <td>Академический район</td>\n",
              "      <td>44</td>\n",
              "      <td>84</td>\n",
              "    </tr>\n",
              "    <tr>\n",
              "      <th>3532</th>\n",
              "      <td>Государственное бюджетное общеобразовательное ...</td>\n",
              "      <td>2020-2021</td>\n",
              "      <td>Юго-Западный административный округ</td>\n",
              "      <td>район Зюзино</td>\n",
              "      <td>19</td>\n",
              "      <td>33</td>\n",
              "    </tr>\n",
              "    <tr>\n",
              "      <th>3533</th>\n",
              "      <td>Государственное бюджетное общеобразовательное ...</td>\n",
              "      <td>2020-2021</td>\n",
              "      <td>Юго-Западный административный округ</td>\n",
              "      <td>Ломоносовский район</td>\n",
              "      <td>153</td>\n",
              "      <td>199</td>\n",
              "    </tr>\n",
              "  </tbody>\n",
              "</table>\n",
              "<p>3534 rows × 6 columns</p>\n",
              "</div>\n",
              "      <button class=\"colab-df-convert\" onclick=\"convertToInteractive('df-8d143c06-9954-489c-9d1d-a198d8f71fda')\"\n",
              "              title=\"Convert this dataframe to an interactive table.\"\n",
              "              style=\"display:none;\">\n",
              "        \n",
              "  <svg xmlns=\"http://www.w3.org/2000/svg\" height=\"24px\"viewBox=\"0 0 24 24\"\n",
              "       width=\"24px\">\n",
              "    <path d=\"M0 0h24v24H0V0z\" fill=\"none\"/>\n",
              "    <path d=\"M18.56 5.44l.94 2.06.94-2.06 2.06-.94-2.06-.94-.94-2.06-.94 2.06-2.06.94zm-11 1L8.5 8.5l.94-2.06 2.06-.94-2.06-.94L8.5 2.5l-.94 2.06-2.06.94zm10 10l.94 2.06.94-2.06 2.06-.94-2.06-.94-.94-2.06-.94 2.06-2.06.94z\"/><path d=\"M17.41 7.96l-1.37-1.37c-.4-.4-.92-.59-1.43-.59-.52 0-1.04.2-1.43.59L10.3 9.45l-7.72 7.72c-.78.78-.78 2.05 0 2.83L4 21.41c.39.39.9.59 1.41.59.51 0 1.02-.2 1.41-.59l7.78-7.78 2.81-2.81c.8-.78.8-2.07 0-2.86zM5.41 20L4 18.59l7.72-7.72 1.47 1.35L5.41 20z\"/>\n",
              "  </svg>\n",
              "      </button>\n",
              "      \n",
              "  <style>\n",
              "    .colab-df-container {\n",
              "      display:flex;\n",
              "      flex-wrap:wrap;\n",
              "      gap: 12px;\n",
              "    }\n",
              "\n",
              "    .colab-df-convert {\n",
              "      background-color: #E8F0FE;\n",
              "      border: none;\n",
              "      border-radius: 50%;\n",
              "      cursor: pointer;\n",
              "      display: none;\n",
              "      fill: #1967D2;\n",
              "      height: 32px;\n",
              "      padding: 0 0 0 0;\n",
              "      width: 32px;\n",
              "    }\n",
              "\n",
              "    .colab-df-convert:hover {\n",
              "      background-color: #E2EBFA;\n",
              "      box-shadow: 0px 1px 2px rgba(60, 64, 67, 0.3), 0px 1px 3px 1px rgba(60, 64, 67, 0.15);\n",
              "      fill: #174EA6;\n",
              "    }\n",
              "\n",
              "    [theme=dark] .colab-df-convert {\n",
              "      background-color: #3B4455;\n",
              "      fill: #D2E3FC;\n",
              "    }\n",
              "\n",
              "    [theme=dark] .colab-df-convert:hover {\n",
              "      background-color: #434B5C;\n",
              "      box-shadow: 0px 1px 3px 1px rgba(0, 0, 0, 0.15);\n",
              "      filter: drop-shadow(0px 1px 2px rgba(0, 0, 0, 0.3));\n",
              "      fill: #FFFFFF;\n",
              "    }\n",
              "  </style>\n",
              "\n",
              "      <script>\n",
              "        const buttonEl =\n",
              "          document.querySelector('#df-8d143c06-9954-489c-9d1d-a198d8f71fda button.colab-df-convert');\n",
              "        buttonEl.style.display =\n",
              "          google.colab.kernel.accessAllowed ? 'block' : 'none';\n",
              "\n",
              "        async function convertToInteractive(key) {\n",
              "          const element = document.querySelector('#df-8d143c06-9954-489c-9d1d-a198d8f71fda');\n",
              "          const dataTable =\n",
              "            await google.colab.kernel.invokeFunction('convertToInteractive',\n",
              "                                                     [key], {});\n",
              "          if (!dataTable) return;\n",
              "\n",
              "          const docLinkHtml = 'Like what you see? Visit the ' +\n",
              "            '<a target=\"_blank\" href=https://colab.research.google.com/notebooks/data_table.ipynb>data table notebook</a>'\n",
              "            + ' to learn more about interactive tables.';\n",
              "          element.innerHTML = '';\n",
              "          dataTable['output_type'] = 'display_data';\n",
              "          await google.colab.output.renderOutput(dataTable, element);\n",
              "          const docLink = document.createElement('div');\n",
              "          docLink.innerHTML = docLinkHtml;\n",
              "          element.appendChild(docLink);\n",
              "        }\n",
              "      </script>\n",
              "    </div>\n",
              "  </div>\n",
              "  "
            ]
          },
          "metadata": {},
          "execution_count": 3
        }
      ]
    },
    {
      "cell_type": "code",
      "source": [
        "# функция  вместо minmaxscaler + чистка от выбросов\n",
        "def df_year_clean(year):\n",
        "  df_temp = df[df['YEAR'] == year]\n",
        "  df_temp = df_temp.drop(df_temp[df_temp.PASSES_OVER_220>200].index)\n",
        "  df_temp = df_temp.drop(df_temp[df_temp.PASSES_OVER_220<=0].index)\n",
        "  df_temp = df_temp.drop(df_temp[df_temp.PASSER_UNDER_160>300].index)\n",
        "  df_temp = df_temp.drop(df_temp[df_temp.PASSER_UNDER_160<=0].index)\n",
        "\n",
        "  col_name = ['pass200_'+year[-1:], 'pass160_'+year[-1:]]\n",
        "  df_temp[col_name[0]] = df_temp['PASSES_OVER_220']/(df_temp['PASSES_OVER_220'] + df_temp['PASSER_UNDER_160'])\n",
        "  df_temp[col_name[1]] = df_temp['PASSER_UNDER_160']/(df_temp['PASSES_OVER_220'] + df_temp['PASSER_UNDER_160'])\n",
        "  df_temp = df_temp.drop(columns=['PASSER_UNDER_160', 'PASSES_OVER_220'])\n",
        "  # df.rename(columns={\"A\": \"a\", \"B\": \"c\"})\n",
        "\n",
        "  # df16_17 = df16_17.drop(df16_17[df16_17[col_name[0]] == NaN].index)\n",
        "  # df16_17 = df16_17.drop(df16_17[df16_17[col_name[1]] == NaN].index)\n",
        "  return df_temp\n",
        "  # df16_17.sort_values(by=[col_name[0]])"
      ],
      "metadata": {
        "id": "af4AewmSEx16"
      },
      "execution_count": null,
      "outputs": []
    },
    {
      "cell_type": "code",
      "source": [
        "# находим те школы, которые предоставили данные во все года \n",
        "s1 = pd.merge(df_year_clean('2016-2017'), df_year_clean('2017-2018'), how='inner', on=['EDU_NAME', 'AdmArea', 'District'])\n",
        "s1 = pd.merge(s1, df_year_clean('2018-2019'), how='inner', on=['EDU_NAME', 'AdmArea', 'District'])\n",
        "s1 = pd.merge(s1, df_year_clean('2019-2020'), how='inner', on=['EDU_NAME', 'AdmArea', 'District'])\n",
        "s1 = pd.merge(s1, df_year_clean('2020-2021'), how='inner', on=['EDU_NAME', 'AdmArea', 'District'])\n",
        "\n",
        "s1"
      ],
      "metadata": {
        "id": "0yweGqOuBx7D",
        "colab": {
          "base_uri": "https://localhost:8080/",
          "height": 1000
        },
        "outputId": "c11f3183-c7cd-4aae-c9c1-ffd1cea661d0"
      },
      "execution_count": null,
      "outputs": [
        {
          "output_type": "stream",
          "name": "stderr",
          "text": [
            "<ipython-input-6-9d9003def8b2>:4: FutureWarning: Passing 'suffixes' which cause duplicate columns {'YEAR_x'} in the result is deprecated and will raise a MergeError in a future version.\n",
            "  s1 = pd.merge(s1, df_year_clean('2019-2020'), how='inner', on=['EDU_NAME', 'AdmArea', 'District'])\n"
          ]
        },
        {
          "output_type": "execute_result",
          "data": {
            "text/plain": [
              "                                              EDU_NAME     YEAR_x  \\\n",
              "0    Государственное бюджетное общеобразовательное ...  2016-2017   \n",
              "1    Государственное бюджетное общеобразовательное ...  2016-2017   \n",
              "2    Государственное бюджетное общеобразовательное ...  2016-2017   \n",
              "3    Государственное бюджетное общеобразовательное ...  2016-2017   \n",
              "4    Государственное бюджетное общеобразовательное ...  2016-2017   \n",
              "..                                                 ...        ...   \n",
              "460  Государственное бюджетное общеобразовательное ...  2016-2017   \n",
              "461  Государственное бюджетное общеобразовательное ...  2016-2017   \n",
              "462  Государственное бюджетное общеобразовательное ...  2016-2017   \n",
              "463  Государственное бюджетное общеобразовательное ...  2016-2017   \n",
              "464  Государственное бюджетное общеобразовательное ...  2016-2017   \n",
              "\n",
              "                              AdmArea                      District  \\\n",
              "0    Восточный административный округ             район Новогиреево   \n",
              "1    Восточный административный округ             район Новогиреево   \n",
              "2    Восточный административный округ                  район Перово   \n",
              "3    Восточный административный округ          район Соколиная Гора   \n",
              "4     Западный административный округ            район Дорогомилово   \n",
              "..                                ...                           ...   \n",
              "460      Южный административный округ      район Бирюлёво Восточное   \n",
              "461      Южный административный округ               район Зябликово   \n",
              "462      Южный административный округ  район Орехово-Борисово Южное   \n",
              "463      Южный административный округ                район Царицыно   \n",
              "464      Южный административный округ         район Чертаново Южное   \n",
              "\n",
              "     pass200_7  pass160_7     YEAR_y  pass200_8  pass160_8     YEAR_x  \\\n",
              "0     0.240000   0.760000  2017-2018   0.267857   0.732143  2018-2019   \n",
              "1     0.296296   0.703704  2017-2018   0.230769   0.769231  2018-2019   \n",
              "2     0.272727   0.727273  2017-2018   0.343750   0.656250  2018-2019   \n",
              "3     0.304348   0.695652  2017-2018   0.262774   0.737226  2018-2019   \n",
              "4     0.255319   0.744681  2017-2018   0.365079   0.634921  2018-2019   \n",
              "..         ...        ...        ...        ...        ...        ...   \n",
              "460   0.277778   0.722222  2017-2018   0.214286   0.785714  2018-2019   \n",
              "461   0.363636   0.636364  2017-2018   0.382716   0.617284  2018-2019   \n",
              "462   0.250000   0.750000  2017-2018   0.258065   0.741935  2018-2019   \n",
              "463   0.179487   0.820513  2017-2018   0.304878   0.695122  2018-2019   \n",
              "464   0.279412   0.720588  2017-2018   0.445783   0.554217  2018-2019   \n",
              "\n",
              "     pass200_9  pass160_9     YEAR_y  pass200_0  pass160_0       YEAR  \\\n",
              "0     0.331081   0.668919  2019-2020   0.319149   0.680851  2020-2021   \n",
              "1     0.285714   0.714286  2019-2020   0.259615   0.740385  2020-2021   \n",
              "2     0.302326   0.697674  2019-2020   0.147059   0.852941  2020-2021   \n",
              "3     0.232558   0.767442  2019-2020   0.319149   0.680851  2020-2021   \n",
              "4     0.275862   0.724138  2019-2020   0.361702   0.638298  2020-2021   \n",
              "..         ...        ...        ...        ...        ...        ...   \n",
              "460   0.215054   0.784946  2019-2020   0.307087   0.692913  2020-2021   \n",
              "461   0.393939   0.606061  2019-2020   0.330000   0.670000  2020-2021   \n",
              "462   0.235294   0.764706  2019-2020   0.278351   0.721649  2020-2021   \n",
              "463   0.163265   0.836735  2019-2020   0.238095   0.761905  2020-2021   \n",
              "464   0.431034   0.568966  2019-2020   0.361111   0.638889  2020-2021   \n",
              "\n",
              "     pass200_1  pass160_1  \n",
              "0     0.312000   0.688000  \n",
              "1     0.297297   0.702703  \n",
              "2     0.333333   0.666667  \n",
              "3     0.291339   0.708661  \n",
              "4     0.352941   0.647059  \n",
              "..         ...        ...  \n",
              "460   0.322581   0.677419  \n",
              "461   0.367521   0.632479  \n",
              "462   0.287879   0.712121  \n",
              "463   0.310811   0.689189  \n",
              "464   0.351852   0.648148  \n",
              "\n",
              "[465 rows x 18 columns]"
            ],
            "text/html": [
              "\n",
              "  <div id=\"df-e7d1d5bb-f81a-4253-a2fd-b01498bae62d\">\n",
              "    <div class=\"colab-df-container\">\n",
              "      <div>\n",
              "<style scoped>\n",
              "    .dataframe tbody tr th:only-of-type {\n",
              "        vertical-align: middle;\n",
              "    }\n",
              "\n",
              "    .dataframe tbody tr th {\n",
              "        vertical-align: top;\n",
              "    }\n",
              "\n",
              "    .dataframe thead th {\n",
              "        text-align: right;\n",
              "    }\n",
              "</style>\n",
              "<table border=\"1\" class=\"dataframe\">\n",
              "  <thead>\n",
              "    <tr style=\"text-align: right;\">\n",
              "      <th></th>\n",
              "      <th>EDU_NAME</th>\n",
              "      <th>YEAR_x</th>\n",
              "      <th>AdmArea</th>\n",
              "      <th>District</th>\n",
              "      <th>pass200_7</th>\n",
              "      <th>pass160_7</th>\n",
              "      <th>YEAR_y</th>\n",
              "      <th>pass200_8</th>\n",
              "      <th>pass160_8</th>\n",
              "      <th>YEAR_x</th>\n",
              "      <th>pass200_9</th>\n",
              "      <th>pass160_9</th>\n",
              "      <th>YEAR_y</th>\n",
              "      <th>pass200_0</th>\n",
              "      <th>pass160_0</th>\n",
              "      <th>YEAR</th>\n",
              "      <th>pass200_1</th>\n",
              "      <th>pass160_1</th>\n",
              "    </tr>\n",
              "  </thead>\n",
              "  <tbody>\n",
              "    <tr>\n",
              "      <th>0</th>\n",
              "      <td>Государственное бюджетное общеобразовательное ...</td>\n",
              "      <td>2016-2017</td>\n",
              "      <td>Восточный административный округ</td>\n",
              "      <td>район Новогиреево</td>\n",
              "      <td>0.240000</td>\n",
              "      <td>0.760000</td>\n",
              "      <td>2017-2018</td>\n",
              "      <td>0.267857</td>\n",
              "      <td>0.732143</td>\n",
              "      <td>2018-2019</td>\n",
              "      <td>0.331081</td>\n",
              "      <td>0.668919</td>\n",
              "      <td>2019-2020</td>\n",
              "      <td>0.319149</td>\n",
              "      <td>0.680851</td>\n",
              "      <td>2020-2021</td>\n",
              "      <td>0.312000</td>\n",
              "      <td>0.688000</td>\n",
              "    </tr>\n",
              "    <tr>\n",
              "      <th>1</th>\n",
              "      <td>Государственное бюджетное общеобразовательное ...</td>\n",
              "      <td>2016-2017</td>\n",
              "      <td>Восточный административный округ</td>\n",
              "      <td>район Новогиреево</td>\n",
              "      <td>0.296296</td>\n",
              "      <td>0.703704</td>\n",
              "      <td>2017-2018</td>\n",
              "      <td>0.230769</td>\n",
              "      <td>0.769231</td>\n",
              "      <td>2018-2019</td>\n",
              "      <td>0.285714</td>\n",
              "      <td>0.714286</td>\n",
              "      <td>2019-2020</td>\n",
              "      <td>0.259615</td>\n",
              "      <td>0.740385</td>\n",
              "      <td>2020-2021</td>\n",
              "      <td>0.297297</td>\n",
              "      <td>0.702703</td>\n",
              "    </tr>\n",
              "    <tr>\n",
              "      <th>2</th>\n",
              "      <td>Государственное бюджетное общеобразовательное ...</td>\n",
              "      <td>2016-2017</td>\n",
              "      <td>Восточный административный округ</td>\n",
              "      <td>район Перово</td>\n",
              "      <td>0.272727</td>\n",
              "      <td>0.727273</td>\n",
              "      <td>2017-2018</td>\n",
              "      <td>0.343750</td>\n",
              "      <td>0.656250</td>\n",
              "      <td>2018-2019</td>\n",
              "      <td>0.302326</td>\n",
              "      <td>0.697674</td>\n",
              "      <td>2019-2020</td>\n",
              "      <td>0.147059</td>\n",
              "      <td>0.852941</td>\n",
              "      <td>2020-2021</td>\n",
              "      <td>0.333333</td>\n",
              "      <td>0.666667</td>\n",
              "    </tr>\n",
              "    <tr>\n",
              "      <th>3</th>\n",
              "      <td>Государственное бюджетное общеобразовательное ...</td>\n",
              "      <td>2016-2017</td>\n",
              "      <td>Восточный административный округ</td>\n",
              "      <td>район Соколиная Гора</td>\n",
              "      <td>0.304348</td>\n",
              "      <td>0.695652</td>\n",
              "      <td>2017-2018</td>\n",
              "      <td>0.262774</td>\n",
              "      <td>0.737226</td>\n",
              "      <td>2018-2019</td>\n",
              "      <td>0.232558</td>\n",
              "      <td>0.767442</td>\n",
              "      <td>2019-2020</td>\n",
              "      <td>0.319149</td>\n",
              "      <td>0.680851</td>\n",
              "      <td>2020-2021</td>\n",
              "      <td>0.291339</td>\n",
              "      <td>0.708661</td>\n",
              "    </tr>\n",
              "    <tr>\n",
              "      <th>4</th>\n",
              "      <td>Государственное бюджетное общеобразовательное ...</td>\n",
              "      <td>2016-2017</td>\n",
              "      <td>Западный административный округ</td>\n",
              "      <td>район Дорогомилово</td>\n",
              "      <td>0.255319</td>\n",
              "      <td>0.744681</td>\n",
              "      <td>2017-2018</td>\n",
              "      <td>0.365079</td>\n",
              "      <td>0.634921</td>\n",
              "      <td>2018-2019</td>\n",
              "      <td>0.275862</td>\n",
              "      <td>0.724138</td>\n",
              "      <td>2019-2020</td>\n",
              "      <td>0.361702</td>\n",
              "      <td>0.638298</td>\n",
              "      <td>2020-2021</td>\n",
              "      <td>0.352941</td>\n",
              "      <td>0.647059</td>\n",
              "    </tr>\n",
              "    <tr>\n",
              "      <th>...</th>\n",
              "      <td>...</td>\n",
              "      <td>...</td>\n",
              "      <td>...</td>\n",
              "      <td>...</td>\n",
              "      <td>...</td>\n",
              "      <td>...</td>\n",
              "      <td>...</td>\n",
              "      <td>...</td>\n",
              "      <td>...</td>\n",
              "      <td>...</td>\n",
              "      <td>...</td>\n",
              "      <td>...</td>\n",
              "      <td>...</td>\n",
              "      <td>...</td>\n",
              "      <td>...</td>\n",
              "      <td>...</td>\n",
              "      <td>...</td>\n",
              "      <td>...</td>\n",
              "    </tr>\n",
              "    <tr>\n",
              "      <th>460</th>\n",
              "      <td>Государственное бюджетное общеобразовательное ...</td>\n",
              "      <td>2016-2017</td>\n",
              "      <td>Южный административный округ</td>\n",
              "      <td>район Бирюлёво Восточное</td>\n",
              "      <td>0.277778</td>\n",
              "      <td>0.722222</td>\n",
              "      <td>2017-2018</td>\n",
              "      <td>0.214286</td>\n",
              "      <td>0.785714</td>\n",
              "      <td>2018-2019</td>\n",
              "      <td>0.215054</td>\n",
              "      <td>0.784946</td>\n",
              "      <td>2019-2020</td>\n",
              "      <td>0.307087</td>\n",
              "      <td>0.692913</td>\n",
              "      <td>2020-2021</td>\n",
              "      <td>0.322581</td>\n",
              "      <td>0.677419</td>\n",
              "    </tr>\n",
              "    <tr>\n",
              "      <th>461</th>\n",
              "      <td>Государственное бюджетное общеобразовательное ...</td>\n",
              "      <td>2016-2017</td>\n",
              "      <td>Южный административный округ</td>\n",
              "      <td>район Зябликово</td>\n",
              "      <td>0.363636</td>\n",
              "      <td>0.636364</td>\n",
              "      <td>2017-2018</td>\n",
              "      <td>0.382716</td>\n",
              "      <td>0.617284</td>\n",
              "      <td>2018-2019</td>\n",
              "      <td>0.393939</td>\n",
              "      <td>0.606061</td>\n",
              "      <td>2019-2020</td>\n",
              "      <td>0.330000</td>\n",
              "      <td>0.670000</td>\n",
              "      <td>2020-2021</td>\n",
              "      <td>0.367521</td>\n",
              "      <td>0.632479</td>\n",
              "    </tr>\n",
              "    <tr>\n",
              "      <th>462</th>\n",
              "      <td>Государственное бюджетное общеобразовательное ...</td>\n",
              "      <td>2016-2017</td>\n",
              "      <td>Южный административный округ</td>\n",
              "      <td>район Орехово-Борисово Южное</td>\n",
              "      <td>0.250000</td>\n",
              "      <td>0.750000</td>\n",
              "      <td>2017-2018</td>\n",
              "      <td>0.258065</td>\n",
              "      <td>0.741935</td>\n",
              "      <td>2018-2019</td>\n",
              "      <td>0.235294</td>\n",
              "      <td>0.764706</td>\n",
              "      <td>2019-2020</td>\n",
              "      <td>0.278351</td>\n",
              "      <td>0.721649</td>\n",
              "      <td>2020-2021</td>\n",
              "      <td>0.287879</td>\n",
              "      <td>0.712121</td>\n",
              "    </tr>\n",
              "    <tr>\n",
              "      <th>463</th>\n",
              "      <td>Государственное бюджетное общеобразовательное ...</td>\n",
              "      <td>2016-2017</td>\n",
              "      <td>Южный административный округ</td>\n",
              "      <td>район Царицыно</td>\n",
              "      <td>0.179487</td>\n",
              "      <td>0.820513</td>\n",
              "      <td>2017-2018</td>\n",
              "      <td>0.304878</td>\n",
              "      <td>0.695122</td>\n",
              "      <td>2018-2019</td>\n",
              "      <td>0.163265</td>\n",
              "      <td>0.836735</td>\n",
              "      <td>2019-2020</td>\n",
              "      <td>0.238095</td>\n",
              "      <td>0.761905</td>\n",
              "      <td>2020-2021</td>\n",
              "      <td>0.310811</td>\n",
              "      <td>0.689189</td>\n",
              "    </tr>\n",
              "    <tr>\n",
              "      <th>464</th>\n",
              "      <td>Государственное бюджетное общеобразовательное ...</td>\n",
              "      <td>2016-2017</td>\n",
              "      <td>Южный административный округ</td>\n",
              "      <td>район Чертаново Южное</td>\n",
              "      <td>0.279412</td>\n",
              "      <td>0.720588</td>\n",
              "      <td>2017-2018</td>\n",
              "      <td>0.445783</td>\n",
              "      <td>0.554217</td>\n",
              "      <td>2018-2019</td>\n",
              "      <td>0.431034</td>\n",
              "      <td>0.568966</td>\n",
              "      <td>2019-2020</td>\n",
              "      <td>0.361111</td>\n",
              "      <td>0.638889</td>\n",
              "      <td>2020-2021</td>\n",
              "      <td>0.351852</td>\n",
              "      <td>0.648148</td>\n",
              "    </tr>\n",
              "  </tbody>\n",
              "</table>\n",
              "<p>465 rows × 18 columns</p>\n",
              "</div>\n",
              "      <button class=\"colab-df-convert\" onclick=\"convertToInteractive('df-e7d1d5bb-f81a-4253-a2fd-b01498bae62d')\"\n",
              "              title=\"Convert this dataframe to an interactive table.\"\n",
              "              style=\"display:none;\">\n",
              "        \n",
              "  <svg xmlns=\"http://www.w3.org/2000/svg\" height=\"24px\"viewBox=\"0 0 24 24\"\n",
              "       width=\"24px\">\n",
              "    <path d=\"M0 0h24v24H0V0z\" fill=\"none\"/>\n",
              "    <path d=\"M18.56 5.44l.94 2.06.94-2.06 2.06-.94-2.06-.94-.94-2.06-.94 2.06-2.06.94zm-11 1L8.5 8.5l.94-2.06 2.06-.94-2.06-.94L8.5 2.5l-.94 2.06-2.06.94zm10 10l.94 2.06.94-2.06 2.06-.94-2.06-.94-.94-2.06-.94 2.06-2.06.94z\"/><path d=\"M17.41 7.96l-1.37-1.37c-.4-.4-.92-.59-1.43-.59-.52 0-1.04.2-1.43.59L10.3 9.45l-7.72 7.72c-.78.78-.78 2.05 0 2.83L4 21.41c.39.39.9.59 1.41.59.51 0 1.02-.2 1.41-.59l7.78-7.78 2.81-2.81c.8-.78.8-2.07 0-2.86zM5.41 20L4 18.59l7.72-7.72 1.47 1.35L5.41 20z\"/>\n",
              "  </svg>\n",
              "      </button>\n",
              "      \n",
              "  <style>\n",
              "    .colab-df-container {\n",
              "      display:flex;\n",
              "      flex-wrap:wrap;\n",
              "      gap: 12px;\n",
              "    }\n",
              "\n",
              "    .colab-df-convert {\n",
              "      background-color: #E8F0FE;\n",
              "      border: none;\n",
              "      border-radius: 50%;\n",
              "      cursor: pointer;\n",
              "      display: none;\n",
              "      fill: #1967D2;\n",
              "      height: 32px;\n",
              "      padding: 0 0 0 0;\n",
              "      width: 32px;\n",
              "    }\n",
              "\n",
              "    .colab-df-convert:hover {\n",
              "      background-color: #E2EBFA;\n",
              "      box-shadow: 0px 1px 2px rgba(60, 64, 67, 0.3), 0px 1px 3px 1px rgba(60, 64, 67, 0.15);\n",
              "      fill: #174EA6;\n",
              "    }\n",
              "\n",
              "    [theme=dark] .colab-df-convert {\n",
              "      background-color: #3B4455;\n",
              "      fill: #D2E3FC;\n",
              "    }\n",
              "\n",
              "    [theme=dark] .colab-df-convert:hover {\n",
              "      background-color: #434B5C;\n",
              "      box-shadow: 0px 1px 3px 1px rgba(0, 0, 0, 0.15);\n",
              "      filter: drop-shadow(0px 1px 2px rgba(0, 0, 0, 0.3));\n",
              "      fill: #FFFFFF;\n",
              "    }\n",
              "  </style>\n",
              "\n",
              "      <script>\n",
              "        const buttonEl =\n",
              "          document.querySelector('#df-e7d1d5bb-f81a-4253-a2fd-b01498bae62d button.colab-df-convert');\n",
              "        buttonEl.style.display =\n",
              "          google.colab.kernel.accessAllowed ? 'block' : 'none';\n",
              "\n",
              "        async function convertToInteractive(key) {\n",
              "          const element = document.querySelector('#df-e7d1d5bb-f81a-4253-a2fd-b01498bae62d');\n",
              "          const dataTable =\n",
              "            await google.colab.kernel.invokeFunction('convertToInteractive',\n",
              "                                                     [key], {});\n",
              "          if (!dataTable) return;\n",
              "\n",
              "          const docLinkHtml = 'Like what you see? Visit the ' +\n",
              "            '<a target=\"_blank\" href=https://colab.research.google.com/notebooks/data_table.ipynb>data table notebook</a>'\n",
              "            + ' to learn more about interactive tables.';\n",
              "          element.innerHTML = '';\n",
              "          dataTable['output_type'] = 'display_data';\n",
              "          await google.colab.output.renderOutput(dataTable, element);\n",
              "          const docLink = document.createElement('div');\n",
              "          docLink.innerHTML = docLinkHtml;\n",
              "          element.appendChild(docLink);\n",
              "        }\n",
              "      </script>\n",
              "    </div>\n",
              "  </div>\n",
              "  "
            ]
          },
          "metadata": {},
          "execution_count": 6
        }
      ]
    },
    {
      "cell_type": "code",
      "source": [
        "# находим кластеры школ, для которых будем наблюдать динамику \n",
        "clusters_num = 4\n",
        "model=KMeans(n_clusters=clusters_num)\n",
        "l=model.fit_predict(s1[['pass200_7', 'pass160_7']])\n",
        "k = 2\n",
        "df2 = s1\n",
        "df2['l'] = l\n",
        "\n",
        "color_dict = matplotlib.rcParams[\"axes.prop_cycle\"]\n",
        "df2['color'] = [list(list(color_dict)[x].values())[0] for x in df2.l.tolist()]\n",
        "\n",
        "\n",
        "plt.scatter(df2['pass200_7'],df2['pass160_7'], c = df2['color'])\n",
        "# plt.plot(np.linspace(0,1,10),np.linspace(0,1/k,10)*k)\n",
        "# plt.scatter(df2[df2.manufacturer == 'samsung']['text_sentiment'],df2[df2.manufacturer == 'samsung']['price_sentiment'], marker = 's', c = df2[df2.manufacturer == 'samsung']['l'])\n",
        "plt.xlabel(\"PASSES_OVER_220\")\n",
        "plt.ylabel(\"PASSER_UNDER_160\")\n",
        "plt.show()\n",
        "# print(model.n_clusters)\n",
        "# df2\n"
      ],
      "metadata": {
        "id": "P0bikgEzBxph",
        "colab": {
          "base_uri": "https://localhost:8080/",
          "height": 280
        },
        "outputId": "65c17d2c-2423-43e5-93d5-5a0536a1f94c"
      },
      "execution_count": null,
      "outputs": [
        {
          "output_type": "display_data",
          "data": {
            "text/plain": [
              "<Figure size 432x288 with 1 Axes>"
            ],
            "image/png": "[encoded data removed]"
          },
          "metadata": {
            "needs_background": "light"
          }
        }
      ]
    },
    {
      "cell_type": "code",
      "source": [
        "size = 90\n",
        "\n",
        "for num in range(clusters_num):\n",
        "  # plt.figure(figsize=(14, 8))\n",
        "  plt.scatter(df2.groupby('l').mean().iloc[num].tolist()[0::2], df2.groupby('l').mean().iloc[num].tolist()[1::2], c = list(list(color_dict)[num].values())[0], s = size)\n",
        "  for i in range(5):\n",
        "    plt.text(df2.groupby('l').mean().iloc[num].tolist()[0::2][i], df2.groupby('l').mean().iloc[num].tolist()[1::2][i], s=i)\n",
        "  plt.xlabel(\"PASSES_OVER_220\")\n",
        "  plt.ylabel(\"PASSER_UNDER_160\")\n",
        "  plt.show()\n"
      ],
      "metadata": {
        "id": "QW2T0arbBx1D",
        "colab": {
          "base_uri": "https://localhost:8080/",
          "height": 1000
        },
        "outputId": "857b0521-92e3-4b2f-c054-ba172cc62ef8"
      },
      "execution_count": null,
      "outputs": [
        {
          "output_type": "display_data",
          "data": {
            "text/plain": [
              "<Figure size 432x288 with 1 Axes>"
            ],
            "image/png": "[encoded data removed]"
          },
          "metadata": {
            "needs_background": "light"
          }
        },
        {
          "output_type": "display_data",
          "data": {
            "text/plain": [
              "<Figure size 432x288 with 1 Axes>"
            ],
            "image/png": "[encoded data removed]"
          },
          "metadata": {
            "needs_background": "light"
          }
        },
        {
          "output_type": "display_data",
          "data": {
            "text/plain": [
              "<Figure size 432x288 with 1 Axes>"
            ],
            "image/png": "[encoded data removed]"
          },
          "metadata": {
            "needs_background": "light"
          }
        },
        {
          "output_type": "display_data",
          "data": {
            "text/plain": [
              "<Figure size 432x288 with 1 Axes>"
            ],
            "image/png": "[encoded data removed]"
          },
          "metadata": {
            "needs_background": "light"
          }
        }
      ]
    },
    {
      "cell_type": "code",
      "source": [
        "size = 90\n",
        "# plt.figure(figsize=(14, 8))\n",
        "\n",
        "for num in range(clusters_num):\n",
        "  plt.scatter(df2.groupby('l').mean().iloc[num].tolist()[0::2], df2.groupby('l').mean().iloc[num].tolist()[1::2], c = list(list(color_dict)[num].values())[0], s = size)\n",
        "  for i in range(5):\n",
        "    plt.text(df2.groupby('l').mean().iloc[num].tolist()[0::2][i], df2.groupby('l').mean().iloc[num].tolist()[1::2][i], s=i)\n",
        "plt.xlabel(\"PASSES_OVER_220\")\n",
        "plt.ylabel(\"PASSER_UNDER_160\")\n",
        "plt.show()\n"
      ],
      "metadata": {
        "id": "-z6FQdwKCSap",
        "colab": {
          "base_uri": "https://localhost:8080/",
          "height": 280
        },
        "outputId": "dfb324ec-4c04-407d-a3d4-9977987db4be"
      },
      "execution_count": null,
      "outputs": [
        {
          "output_type": "display_data",
          "data": {
            "text/plain": [
              "<Figure size 432x288 with 1 Axes>"
            ],
            "image/png": "[encoded data removed]"
          },
          "metadata": {
            "needs_background": "light"
          }
        }
      ]
    },
    {
      "cell_type": "code",
      "source": [],
      "metadata": {
        "id": "i6I6BD_PCSeU"
      },
      "execution_count": null,
      "outputs": []
    },
    {
      "cell_type": "code",
      "source": [],
      "metadata": {
        "id": "63B54CMMCShN"
      },
      "execution_count": null,
      "outputs": []
    },
    {
      "cell_type": "code",
      "source": [],
      "metadata": {
        "id": "Kxri4-oxCSkP"
      },
      "execution_count": null,
      "outputs": []
    },
    {
      "cell_type": "code",
      "source": [],
      "metadata": {
        "id": "WxK97ULdCSnB"
      },
      "execution_count": null,
      "outputs": []
    },
    {
      "cell_type": "code",
      "source": [
        "# далее идут ячейки для проверки"
      ],
      "metadata": {
        "id": "_xP27FvYCSpt"
      },
      "execution_count": null,
      "outputs": []
    },
    {
      "cell_type": "code",
      "source": [
        "model=AffinityPropagation()\n",
        "l=model.fit_predict(scaler.inverse_transform(data))\n",
        "fig,ax=plt.subplots(figsize=(18,5))\n",
        "ax.scatter(scaler.inverse_transform(data)[:,0],scaler.inverse_transform(data)[:,1],c=l)"
      ],
      "metadata": {
        "id": "eAFR4GNDBxsa"
      },
      "execution_count": null,
      "outputs": []
    },
    {
      "cell_type": "code",
      "source": [
        "year = '2016-2017'\n",
        "year[-1:]"
      ],
      "metadata": {
        "id": "O1P-062LExv7",
        "colab": {
          "base_uri": "https://localhost:8080/",
          "height": 36
        },
        "outputId": "f2419fe6-49b5-460c-ad38-f8629187ead3"
      },
      "execution_count": null,
      "outputs": [
        {
          "output_type": "execute_result",
          "data": {
            "text/plain": [
              "'7'"
            ],
            "application/vnd.google.colaboratory.intrinsic+json": {
              "type": "string"
            }
          },
          "metadata": {},
          "execution_count": 4
        }
      ]
    },
    {
      "cell_type": "code",
      "source": [
        "model.cluster_centers_"
      ],
      "metadata": {
        "id": "eHFijgZjBxvT",
        "colab": {
          "base_uri": "https://localhost:8080/"
        },
        "outputId": "00b9fc44-f61a-4d09-938e-3ee080436713"
      },
      "execution_count": null,
      "outputs": [
        {
          "output_type": "execute_result",
          "data": {
            "text/plain": [
              "array([[0.41804774, 0.58195226],\n",
              "       [0.31724139, 0.68275861],\n",
              "       [0.14312262, 0.85687738],\n",
              "       [0.24060228, 0.75939772]])"
            ]
          },
          "metadata": {},
          "execution_count": 41
        }
      ]
    },
    {
      "cell_type": "code",
      "source": [
        "df2.groupby('l').mean().iloc[0].tolist()"
      ],
      "metadata": {
        "id": "3dAZrT15BxyM",
        "colab": {
          "base_uri": "https://localhost:8080/"
        },
        "outputId": "170df69d-a209-4994-ea45-d5b257f4a627"
      },
      "execution_count": null,
      "outputs": [
        {
          "output_type": "execute_result",
          "data": {
            "text/plain": [
              "[0.24208031437483826,\n",
              " 0.7579196856251618,\n",
              " 0.2682140056198386,\n",
              " 0.7317859943801613,\n",
              " 0.27609563561786754,\n",
              " 0.7239043643821325,\n",
              " 0.2870713060017816,\n",
              " 0.7129286939982185,\n",
              " 0.29130798393262824,\n",
              " 0.7086920160673718]"
            ]
          },
          "metadata": {},
          "execution_count": 73
        }
      ]
    }
  ]
}